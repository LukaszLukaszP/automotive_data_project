{
 "cells": [
  {
   "cell_type": "code",
   "execution_count": 1,
   "id": "f1942831",
   "metadata": {},
   "outputs": [],
   "source": [
    "import pandas as pd\n",
    "import numpy as np\n",
    "import os\n",
    "import re\n",
    "from datetime import datetime, timedelta"
   ]
  },
  {
   "cell_type": "code",
   "execution_count": 2,
   "id": "d8d9f067",
   "metadata": {},
   "outputs": [
    {
     "name": "stdout",
     "output_type": "stream",
     "text": [
      "Current working directory: c:\\Users\\Lukasz Pindus\\VS Code Python\\car_price_analysis\\notebooks\n",
      "Current working directory: c:\\Users\\Lukasz Pindus\\VS Code Python\\car_price_analysis\n"
     ]
    }
   ],
   "source": [
    "print(\"Current working directory:\", os.getcwd())\n",
    "os.chdir(r'..')\n",
    "print(\"Current working directory:\", os.getcwd())"
   ]
  },
  {
   "cell_type": "code",
   "execution_count": 3,
   "id": "12a1ac72",
   "metadata": {},
   "outputs": [],
   "source": [
    "#df = pd.read_csv('data/merged01.csv')\n",
    "df = pd.read_csv('C:/Users/Lukasz Pindus/VS Code Python/car_price_analysis/data/merged01.csv', dtype={\n",
    "    'Pojemność baterii': str,\n",
    "    'Autonomia': str,\n",
    "    'Średnie zużycie': str,\n",
    "    'Kondycja baterii': str,\n",
    "    'Typ złącza ładowania': str,\n",
    "    'advert_date': str\n",
    "})"
   ]
  },
  {
   "cell_type": "code",
   "execution_count": null,
   "id": "d97e297e",
   "metadata": {},
   "outputs": [],
   "source": [
    "print(df.columns)"
   ]
  },
  {
   "cell_type": "code",
   "execution_count": null,
   "id": "e5a1869c",
   "metadata": {},
   "outputs": [],
   "source": [
    "df.info()"
   ]
  },
  {
   "cell_type": "code",
   "execution_count": null,
   "id": "a187db55",
   "metadata": {},
   "outputs": [],
   "source": [
    "df[df['advert_id'].notnull()]['advert_id'].head(10)"
   ]
  },
  {
   "cell_type": "code",
   "execution_count": null,
   "id": "2ce04406",
   "metadata": {},
   "outputs": [],
   "source": [
    "df[df['Liczba silników'].notnull()]['Liczba silników'].unique()"
   ]
  },
  {
   "cell_type": "code",
   "execution_count": 4,
   "id": "ed404554",
   "metadata": {},
   "outputs": [],
   "source": [
    "# # Extract number and unit\n",
    "# df[['battery_capacity_value', 'battery_capacity_unit']] = df['Pojemność baterii'].str.extract(r'(\\d+\\.?\\d*)\\s*(\\w+)')\n",
    "\n",
    "# # Convert value to float for analysis\n",
    "# df['battery_capacity_value'] = df['battery_capacity_value'].astype(float)\n",
    "\n",
    "# df = df.drop('Pojemność baterii', axis=1)\n",
    "\n",
    "def clean_battery_capacity(series, expected_unit='kWh'):\n",
    "    # Extract number and unit\n",
    "    extracted = series.str.extract(r'(?P<value>\\d+\\.?\\d*)\\s*(?P<unit>\\w+)', expand=True)\n",
    "\n",
    "    # Check for unexpected units\n",
    "    non_null_units = extracted['unit'].dropna()\n",
    "    unexpected_units = non_null_units[~non_null_units.eq(expected_unit)].unique()\n",
    "    if len(unexpected_units) > 0:\n",
    "        raise ValueError(f\"Unexpected units found: {unexpected_units.tolist()}\")\n",
    "\n",
    "    # Return numeric series\n",
    "    return extracted['value'].astype(float)\n",
    "\n",
    "df['Pojemność_baterii_kWh'] = clean_battery_capacity(df['Pojemność baterii'])\n",
    "\n",
    "df = df.drop('Pojemność baterii', axis=1)"
   ]
  },
  {
   "cell_type": "code",
   "execution_count": 5,
   "id": "9a700cc3",
   "metadata": {},
   "outputs": [],
   "source": [
    "def clean_range_column(series, expected_unit='km'):\n",
    "    # Extract numeric value and unit\n",
    "    extracted = series.str.extract(r'(?P<value>\\d+\\.?\\d*)\\s*(?P<unit>\\w+)', expand=True)\n",
    "\n",
    "    # Validate unit\n",
    "    non_null_units = extracted['unit'].dropna()\n",
    "    unexpected_units = non_null_units[~non_null_units.eq(expected_unit)].unique()\n",
    "    if len(unexpected_units) > 0:\n",
    "        raise ValueError(f\"Unexpected units in Autonomia: {unexpected_units.tolist()}\")\n",
    "\n",
    "    return extracted['value'].astype(float)\n",
    "\n",
    "df['Autonomia_km'] = clean_range_column(df['Autonomia'])\n",
    "\n",
    "df = df.drop('Autonomia', axis=1)"
   ]
  },
  {
   "cell_type": "code",
   "execution_count": 6,
   "id": "112fb53c",
   "metadata": {},
   "outputs": [],
   "source": [
    "def clean_engine_displacement(series, expected_unit='cm3'):\n",
    "    # Remove thousand separators (spaces)\n",
    "    cleaned = series.str.replace(' ', '', regex=False)\n",
    "\n",
    "    # Extract numeric value and unit\n",
    "    extracted = cleaned.str.extract(r'^(?P<value>\\d+\\.?\\d*)\\s*(?P<unit>[a-zA-Z/]+)$', expand=True)\n",
    "\n",
    "    # Validate unit\n",
    "    non_null_units = extracted['unit'].dropna()\n",
    "    unexpected_units = non_null_units[~non_null_units.eq(expected_unit)].unique()\n",
    "    if len(unexpected_units) > 0:\n",
    "        raise ValueError(f\"Unexpected units in engine displacement: {unexpected_units.tolist()}\")\n",
    "\n",
    "    return extracted['value'].astype(float)\n",
    "\n",
    "# Apply it\n",
    "df['engine_displacement_cm3'] = clean_engine_displacement(df['Pojemność skokowa'])\n",
    "df = df.drop('Pojemność skokowa', axis=1)"
   ]
  },
  {
   "cell_type": "code",
   "execution_count": 7,
   "id": "590ccd59",
   "metadata": {},
   "outputs": [],
   "source": [
    "def clean_moc_column(series):\n",
    "    # Remove any spaces (in case of '1 000 kW')\n",
    "    cleaned = series.str.replace(' ', '', regex=False)\n",
    "\n",
    "    # Extract numeric value and unit\n",
    "    extracted = cleaned.str.extract(r'(?P<value>\\d+\\.?\\d*)\\s*(?P<unit>\\w+)', expand=True)\n",
    "\n",
    "    # Normalize units to lowercase for comparison\n",
    "    extracted['unit'] = extracted['unit'].str.lower()\n",
    "\n",
    "    # Allowed units\n",
    "    expected_unit = ['km', 'kw']\n",
    "\n",
    "    # Check for unexpected units\n",
    "    non_null_units = extracted['unit'].dropna()\n",
    "    unexpected_units = non_null_units[~non_null_units.isin(expected_unit)].unique()\n",
    "    if len(unexpected_units) > 0:\n",
    "        raise ValueError(f\"Unexpected units in 'Moc': {unexpected_units.tolist()}\")\n",
    "\n",
    "    # Convert to float\n",
    "    extracted['value'] = extracted['value'].astype(float)\n",
    "\n",
    "    # Convert kW to KM (1 kW = 1.35962 KM), KM stays as-is\n",
    "    extracted['value'] = extracted.apply(\n",
    "        lambda row: row['value'] * 1.35962 if row['unit'] == 'kw' else row['value'],\n",
    "        axis=1\n",
    "    )\n",
    "\n",
    "    return extracted['value']\n",
    "\n",
    "df['power_hp'] = clean_moc_column(df['Moc'])\n",
    "\n",
    "df = df.drop('Moc', axis=1)"
   ]
  },
  {
   "cell_type": "code",
   "execution_count": 8,
   "id": "421b05d6",
   "metadata": {},
   "outputs": [],
   "source": [
    "def clean_co2_emissions_column(series, expected_unit='g/km'):\n",
    "    # Remove any extra spaces (e.g., '96 g/km')\n",
    "    cleaned = series.str.replace(' ', '', regex=False)\n",
    "\n",
    "    # Extract numeric value and unit\n",
    "    extracted = cleaned.str.extract(r'(?P<value>\\d+\\.?\\d*)\\s*(?P<unit>.+)', expand=True)\n",
    "\n",
    "    # Validate unit\n",
    "    non_null_units = extracted['unit'].dropna()\n",
    "    unexpected_units = non_null_units[~non_null_units.eq(expected_unit)].unique()\n",
    "    if len(unexpected_units) > 0:\n",
    "        raise ValueError(f\"Unexpected units in 'Emisja CO2': {unexpected_units.tolist()}\")\n",
    "\n",
    "    # Return numeric values as float\n",
    "    return extracted['value'].astype(float)\n",
    "\n",
    "df['co2_emissions_gpkm'] = clean_co2_emissions_column(df['Emisja CO2'])\n",
    "\n",
    "df = df.drop('Emisja CO2', axis=1)"
   ]
  },
  {
   "cell_type": "code",
   "execution_count": 9,
   "id": "8863c953",
   "metadata": {},
   "outputs": [],
   "source": [
    "def clean_urban_fuel_column(series, expected_unit='l/100km'):\n",
    "    # Remove spaces just in case (e.g., '7.8 l/100km' → '7.8l/100km')\n",
    "    cleaned = series.str.replace(' ', '', regex=False)\n",
    "\n",
    "    # Extract numeric value and unit\n",
    "    extracted = cleaned.str.extract(r'(?P<value>\\d+\\.?\\d*)\\s*(?P<unit>.+)', expand=True)\n",
    "\n",
    "    # Validate unit\n",
    "    non_null_units = extracted['unit'].dropna()\n",
    "    unexpected_units = non_null_units[~non_null_units.eq(expected_unit)].unique()\n",
    "    if len(unexpected_units) > 0:\n",
    "        raise ValueError(f\"Unexpected units in 'Spalanie W Mieście': {unexpected_units.tolist()}\")\n",
    "\n",
    "    # Return numeric value as float\n",
    "    return extracted['value'].astype(float)\n",
    "\n",
    "df['urban_fuel_consumption_l_per_100km'] = clean_urban_fuel_column(df['Spalanie W Mieście'])\n",
    "\n",
    "df = df.drop('Spalanie W Mieście', axis=1)"
   ]
  },
  {
   "cell_type": "code",
   "execution_count": 10,
   "id": "bb971aab",
   "metadata": {},
   "outputs": [],
   "source": [
    "def clean_extraurban_fuel_column(series, expected_unit='l/100km'):\n",
    "    # Remove spaces just in case\n",
    "    cleaned = series.str.replace(' ', '', regex=False)\n",
    "\n",
    "    # Extract numeric value and unit\n",
    "    extracted = cleaned.str.extract(r'(?P<value>\\d+\\.?\\d*)\\s*(?P<unit>.+)', expand=True)\n",
    "\n",
    "    # Validate unit\n",
    "    non_null_units = extracted['unit'].dropna()\n",
    "    unexpected_units = non_null_units[~non_null_units.eq(expected_unit)].unique()\n",
    "    if len(unexpected_units) > 0:\n",
    "        raise ValueError(f\"Unexpected units in 'Spalanie Poza Miastem': {unexpected_units.tolist()}\")\n",
    "\n",
    "    # Return numeric value as float\n",
    "    return extracted['value'].astype(float)\n",
    "\n",
    "df['extraurban_fuel_consumption_l_per_100km'] = clean_extraurban_fuel_column(df['Spalanie Poza Miastem'])\n",
    "\n",
    "df = df.drop('Spalanie Poza Miastem', axis=1)"
   ]
  },
  {
   "cell_type": "code",
   "execution_count": 11,
   "id": "bea2fba1",
   "metadata": {},
   "outputs": [],
   "source": [
    "def clean_mileage_column(series, expected_unit='km'):\n",
    "    # Remove thousand separators (spaces)\n",
    "    cleaned = series.str.replace(' ', '', regex=False)\n",
    "\n",
    "    # Extract numeric value and unit\n",
    "    extracted = cleaned.str.extract(r'(?P<value>\\d+)\\s*(?P<unit>\\w+)', expand=True)\n",
    "\n",
    "    # Validate unit\n",
    "    non_null_units = extracted['unit'].dropna()\n",
    "    unexpected_units = non_null_units[~non_null_units.eq(expected_unit)].unique()\n",
    "    if len(unexpected_units) > 0:\n",
    "        raise ValueError(f\"Unexpected units in 'Przebieg': {unexpected_units.tolist()}\")\n",
    "\n",
    "    # Return as integer (mileage usually doesn't need decimals)\n",
    "    return extracted['value'].astype(int)\n",
    "\n",
    "df['mileage_km'] = clean_mileage_column(df['Przebieg'])\n",
    "\n",
    "df = df.drop('Przebieg', axis=1)"
   ]
  },
  {
   "cell_type": "code",
   "execution_count": 12,
   "id": "9fd78f8b",
   "metadata": {},
   "outputs": [],
   "source": [
    "def clean_avg_energy_consumption_column(series, expected_unit='kWh/100km'):\n",
    "    # Remove any spaces (e.g. '15 kWh/100km' → '15kWh/100km')\n",
    "    cleaned = series.str.replace(' ', '', regex=False)\n",
    "\n",
    "    # Extract numeric value and unit\n",
    "    extracted = cleaned.str.extract(r'(?P<value>\\d+\\.?\\d*)\\s*(?P<unit>.+)', expand=True)\n",
    "\n",
    "    # Validate unit\n",
    "    non_null_units = extracted['unit'].dropna()\n",
    "    unexpected_units = non_null_units[~non_null_units.eq(expected_unit)].unique()\n",
    "    if len(unexpected_units) > 0:\n",
    "        raise ValueError(f\"Unexpected units in 'Średnie zużycie': {unexpected_units.tolist()}\")\n",
    "\n",
    "    # Return numeric value as float\n",
    "    return extracted['value'].astype(float)\n",
    "\n",
    "df['average_energy_consumption_kwh_per_100km'] = clean_avg_energy_consumption_column(df['Średnie zużycie'])\n",
    "\n",
    "df = df.drop('Średnie zużycie', axis=1)"
   ]
  },
  {
   "cell_type": "code",
   "execution_count": 13,
   "id": "2af3cbac",
   "metadata": {},
   "outputs": [],
   "source": [
    "def clean_battery_health_column(series, expected_unit='%'):\n",
    "    # Remove spaces (e.g. '98 %' → '98%')\n",
    "    cleaned = series.str.replace(' ', '', regex=False)\n",
    "\n",
    "    # Extract numeric value and unit\n",
    "    extracted = cleaned.str.extract(r'(?P<value>\\d+\\.?\\d*)\\s*(?P<unit>[%])', expand=True)\n",
    "\n",
    "    # Validate unit\n",
    "    non_null_units = extracted['unit'].dropna()\n",
    "    unexpected_units = non_null_units[~non_null_units.eq(expected_unit)].unique()\n",
    "    if len(unexpected_units) > 0:\n",
    "        raise ValueError(f\"Unexpected units in 'Kondycja baterii': {unexpected_units.tolist()}\")\n",
    "\n",
    "    # Return numeric value as float\n",
    "    return extracted['value'].astype(float)\n",
    "\n",
    "df['battery_health_percent'] = clean_battery_health_column(df['Kondycja baterii'])\n",
    "\n",
    "df = df.drop('Kondycja baterii', axis=1)"
   ]
  },
  {
   "cell_type": "code",
   "execution_count": 14,
   "id": "a6300875",
   "metadata": {},
   "outputs": [],
   "source": [
    "def clean_max_electric_power_column(series, expected_unit='HP'):\n",
    "    # Remove spaces just in case (e.g., '120 HP' → '120HP')\n",
    "    cleaned = series.str.replace(' ', '', regex=False)\n",
    "\n",
    "    # Extract numeric value and unit\n",
    "    extracted = cleaned.str.extract(r'(?P<value>\\d+\\.?\\d*)\\s*(?P<unit>\\w+)', expand=True)\n",
    "\n",
    "    # Validate unit\n",
    "    non_null_units = extracted['unit'].dropna()\n",
    "    unexpected_units = non_null_units[~non_null_units.eq(expected_unit)].unique()\n",
    "    if len(unexpected_units) > 0:\n",
    "        raise ValueError(f\"Unexpected units in 'Elektryczna moc maksymalna HP': {unexpected_units.tolist()}\")\n",
    "\n",
    "    # Return numeric value as float\n",
    "    return extracted['value'].astype(float)\n",
    "\n",
    "df['max_electric_power_hp'] = clean_max_electric_power_column(df['Elektryczna moc maksymalna HP'])\n",
    "\n",
    "df = df.drop('Elektryczna moc maksymalna HP', axis=1)"
   ]
  },
  {
   "cell_type": "code",
   "execution_count": 15,
   "id": "c5ef938d",
   "metadata": {},
   "outputs": [],
   "source": [
    "df['price'] = (\n",
    "    df['price']\n",
    "    .str.replace(' ', '', regex=False)\n",
    "    .str.replace(',', '.', regex=False)\n",
    "    .apply(pd.to_numeric, errors='coerce')  # will set invalid to NaN\n",
    ")"
   ]
  },
  {
   "cell_type": "code",
   "execution_count": 16,
   "id": "d8460e91",
   "metadata": {},
   "outputs": [],
   "source": [
    "# Polish to numeric month mapping\n",
    "month_map = {\n",
    "    'stycznia': '01',\n",
    "    'lutego': '02',\n",
    "    'marca': '03',\n",
    "    'kwietnia': '04',\n",
    "    'maja': '05',\n",
    "    'czerwca': '06',\n",
    "    'lipca': '07',\n",
    "    'sierpnia': '08',\n",
    "    'września': '09',\n",
    "    'października': '10',\n",
    "    'listopada': '11',\n",
    "    'grudnia': '12'\n",
    "}\n",
    "\n",
    "# Replace Polish month names with numbers\n",
    "for pl, num in month_map.items():\n",
    "    df['advert_date'] = df['advert_date'].str.replace(pl, num, regex=False)\n",
    "\n",
    "# Now convert to datetime\n",
    "df['advert_date'] = pd.to_datetime(df['advert_date'], format='%d %m %Y %H:%M')"
   ]
  },
  {
   "cell_type": "code",
   "execution_count": 17,
   "id": "bd88bc78",
   "metadata": {},
   "outputs": [],
   "source": [
    "df['advert_id'] = df['advert_id'].fillna(0).astype(int)"
   ]
  },
  {
   "cell_type": "code",
   "execution_count": 18,
   "id": "ee770e70",
   "metadata": {},
   "outputs": [
    {
     "name": "stdout",
     "output_type": "stream",
     "text": [
      "<class 'pandas.core.frame.DataFrame'>\n",
      "RangeIndex: 270054 entries, 0 to 270053\n",
      "Data columns (total 44 columns):\n",
      " #   Column                                         Non-Null Count   Dtype         \n",
      "---  ------                                         --------------   -----         \n",
      " 0   Marka pojazdu                                  270052 non-null  object        \n",
      " 1   Model pojazdu                                  270054 non-null  object        \n",
      " 2   Wersja                                         185336 non-null  object        \n",
      " 3   Kolor                                          270054 non-null  object        \n",
      " 4   Liczba drzwi                                   269066 non-null  float64       \n",
      " 5   Liczba miejsc                                  252416 non-null  float64       \n",
      " 6   Rok produkcji                                  270054 non-null  int64         \n",
      " 7   Generacja                                      196020 non-null  object        \n",
      " 8   Rodzaj paliwa                                  270054 non-null  object        \n",
      " 9   Typ nadwozia                                   270054 non-null  object        \n",
      " 10  Rodzaj koloru                                  160825 non-null  object        \n",
      " 11  Skrzynia biegów                                269956 non-null  object        \n",
      " 12  Napęd                                          254285 non-null  object        \n",
      " 13  Kraj pochodzenia                               184657 non-null  object        \n",
      " 14  Numer rejestracyjny pojazdu                    0 non-null       float64       \n",
      " 15  Stan                                           270054 non-null  object        \n",
      " 16  Bezwypadkowy                                   164196 non-null  object        \n",
      " 17  Data pierwszej rejestracji w historii pojazdu  0 non-null       float64       \n",
      " 18  Zarejestrowany w Polsce                        168471 non-null  object        \n",
      " 19  Pierwszy właściciel (od nowości)               91492 non-null   object        \n",
      " 20  Serwisowany w ASO                              146626 non-null  object        \n",
      " 21  Ma numer rejestracyjny                         208000 non-null  object        \n",
      " 22  Typ złącza ładowania                           441 non-null     object        \n",
      " 23  Liczba silników                                2354 non-null    float64       \n",
      " 24  Odzyskiwanie energii hamowania                 4299 non-null    object        \n",
      " 25  Liczba baterii                                 292 non-null     float64       \n",
      " 26  equipment                                      250156 non-null  object        \n",
      " 27  price                                          270054 non-null  float64       \n",
      " 28  currency                                       270054 non-null  object        \n",
      " 29  price_level                                    0 non-null       float64       \n",
      " 30  advert_date                                    218146 non-null  datetime64[ns]\n",
      " 31  advert_id                                      270054 non-null  int64         \n",
      " 32  description                                    219149 non-null  object        \n",
      " 33  Pojemność_baterii_kWh                          2403 non-null    float64       \n",
      " 34  Autonomia_km                                   2507 non-null    float64       \n",
      " 35  engine_displacement_cm3                        0 non-null       float64       \n",
      " 36  power_hp                                       269735 non-null  float64       \n",
      " 37  co2_emissions_gpkm                             120969 non-null  float64       \n",
      " 38  urban_fuel_consumption_l_per_100km             138218 non-null  float64       \n",
      " 39  extraurban_fuel_consumption_l_per_100km        119883 non-null  float64       \n",
      " 40  mileage_km                                     270054 non-null  int64         \n",
      " 41  average_energy_consumption_kwh_per_100km       1818 non-null    float64       \n",
      " 42  battery_health_percent                         153 non-null     float64       \n",
      " 43  max_electric_power_hp                          2986 non-null    float64       \n",
      "dtypes: datetime64[ns](1), float64(18), int64(3), object(22)\n",
      "memory usage: 90.7+ MB\n"
     ]
    }
   ],
   "source": [
    "df.info()"
   ]
  },
  {
   "cell_type": "code",
   "execution_count": 19,
   "id": "8f46fde4",
   "metadata": {},
   "outputs": [
    {
     "ename": "NameError",
     "evalue": "name 'text_cols' is not defined",
     "output_type": "error",
     "traceback": [
      "\u001b[1;31m---------------------------------------------------------------------------\u001b[0m",
      "\u001b[1;31mNameError\u001b[0m                                 Traceback (most recent call last)",
      "Cell \u001b[1;32mIn[19], line 2\u001b[0m\n\u001b[0;32m      1\u001b[0m \u001b[38;5;66;03m# Then restore NaNs as before\u001b[39;00m\n\u001b[1;32m----> 2\u001b[0m df[text_cols] \u001b[38;5;241m=\u001b[39m df[\u001b[43mtext_cols\u001b[49m]\u001b[38;5;241m.\u001b[39mreplace(\u001b[38;5;124m'\u001b[39m\u001b[38;5;124m'\u001b[39m, pd\u001b[38;5;241m.\u001b[39mNA)\n\u001b[0;32m      3\u001b[0m df[num_cols] \u001b[38;5;241m=\u001b[39m df[num_cols]\u001b[38;5;241m.\u001b[39mreplace(\u001b[38;5;241m-\u001b[39m\u001b[38;5;241m1\u001b[39m, pd\u001b[38;5;241m.\u001b[39mNA)\n\u001b[0;32m      4\u001b[0m df[date_cols] \u001b[38;5;241m=\u001b[39m df[date_cols]\u001b[38;5;241m.\u001b[39mreplace(pd\u001b[38;5;241m.\u001b[39mTimestamp(\u001b[38;5;124m'\u001b[39m\u001b[38;5;124m1900-01-01\u001b[39m\u001b[38;5;124m'\u001b[39m), pd\u001b[38;5;241m.\u001b[39mNaT)\n",
      "\u001b[1;31mNameError\u001b[0m: name 'text_cols' is not defined"
     ]
    }
   ],
   "source": [
    "# Then restore NaNs as before\n",
    "df[text_cols] = df[text_cols].replace('', pd.NA)\n",
    "df[num_cols] = df[num_cols].replace(-1, pd.NA)\n",
    "df[date_cols] = df[date_cols].replace(pd.Timestamp('1900-01-01'), pd.NaT)\n",
    "\n",
    "# Fill, drop duplicates, restore — all on df directly\n",
    "df[text_cols] = df[text_cols].fillna('')\n",
    "df[num_cols] = df[num_cols].fillna(-1)\n",
    "df[date_cols] = df[date_cols].fillna(pd.Timestamp('1900-01-01'))\n",
    "\n",
    "df = df.drop_duplicates()\n",
    "\n",
    "df[text_cols] = df[text_cols].replace('', pd.NA)\n",
    "df[num_cols] = df[num_cols].replace(-1, pd.NA)\n",
    "df[date_cols] = df[date_cols].replace(pd.Timestamp('1900-01-01'), pd.NaT)\n"
   ]
  },
  {
   "cell_type": "code",
   "execution_count": null,
   "id": "b70bf30e",
   "metadata": {},
   "outputs": [],
   "source": [
    "# # 1. Separate columns by type\n",
    "# text_cols = df.select_dtypes(include='object').columns\n",
    "# num_cols = df.select_dtypes(include=['float64', 'int64']).columns\n",
    "# date_cols = df.select_dtypes(include='datetime64[ns]').columns\n",
    "\n",
    "# # 2. Make a temporary copy\n",
    "# df_temp = df.copy()\n",
    "\n",
    "# # 3. Fill NaNs with placeholder values\n",
    "# df_temp[text_cols] = df_temp[text_cols].fillna('')\n",
    "# df_temp[num_cols] = df_temp[num_cols].fillna(-1)\n",
    "# df_temp[date_cols] = df_temp[date_cols].fillna(pd.Timestamp('1900-01-01'))  # placeholder date\n",
    "\n",
    "# # 4. Drop duplicates\n",
    "# df_deduped = df_temp.drop_duplicates()\n",
    "\n",
    "# # 5. Restore original NaNs\n",
    "# df_deduped[text_cols] = df_deduped[text_cols].replace('', pd.NA)\n",
    "# df_deduped[num_cols] = df_deduped[num_cols].replace(-1, pd.NA)\n",
    "# df_deduped[date_cols] = df_deduped[date_cols].replace(pd.Timestamp('1900-01-01'), pd.NaT)"
   ]
  },
  {
   "cell_type": "code",
   "execution_count": null,
   "id": "8c39d2e7",
   "metadata": {},
   "outputs": [],
   "source": [
    "# # Fill, drop duplicates, restore — all on df directly\n",
    "# df[text_cols] = df[text_cols].fillna('')\n",
    "# df[num_cols] = df[num_cols].fillna(-1)\n",
    "# df[date_cols] = df[date_cols].fillna(pd.Timestamp('1900-01-01'))\n",
    "\n",
    "# df = df.drop_duplicates()\n",
    "\n",
    "# df[text_cols] = df[text_cols].replace('', pd.NA)\n",
    "# df[num_cols] = df[num_cols].replace(-1, pd.NA)\n",
    "# df[date_cols] = df[date_cols].replace(pd.Timestamp('1900-01-01'), pd.NaT)\n"
   ]
  },
  {
   "cell_type": "code",
   "execution_count": null,
   "id": "3e79dc4e",
   "metadata": {},
   "outputs": [],
   "source": [
    "# # 1. Separate columns by type\n",
    "# text_cols = df.select_dtypes(include='object').columns\n",
    "# num_cols = df.select_dtypes(include=['float64', 'int64']).columns\n",
    "# date_cols = df.select_dtypes(include='datetime64[ns]').columns\n",
    "\n",
    "# # 2. Make a temporary copy\n",
    "# df_temp = df.copy()\n",
    "\n",
    "# # 3. Fill NaNs with placeholder values\n",
    "# df_temp[text_cols] = df_temp[text_cols].fillna('')\n",
    "# df_temp[num_cols] = df_temp[num_cols].fillna(-1)\n",
    "# df_temp[date_cols] = df_temp[date_cols].fillna(pd.Timestamp('1900-01-01'))  # placeholder date"
   ]
  },
  {
   "cell_type": "code",
   "execution_count": null,
   "id": "1a271566",
   "metadata": {},
   "outputs": [],
   "source": [
    "df_temp.shape"
   ]
  },
  {
   "cell_type": "code",
   "execution_count": 20,
   "id": "f11227bf",
   "metadata": {},
   "outputs": [],
   "source": [
    "# 1. Separate columns by type\n",
    "text_cols = df.select_dtypes(include='object').columns\n",
    "num_cols = df.select_dtypes(include=['float64', 'int64']).columns\n",
    "date_cols = df.select_dtypes(include='datetime64[ns]').columns\n",
    "\n",
    "# Fill, drop duplicates, restore — all on df directly\n",
    "df[text_cols] = df[text_cols].fillna('')\n",
    "df[num_cols] = df[num_cols].fillna(-1)\n",
    "df[date_cols] = df[date_cols].fillna(pd.Timestamp('1900-01-01'))\n",
    "\n",
    "df = df.drop_duplicates()\n",
    "\n",
    "df[text_cols] = df[text_cols].replace('', pd.NA)\n",
    "df[num_cols] = df[num_cols].replace(-1, pd.NA)\n",
    "df[date_cols] = df[date_cols].replace(pd.Timestamp('1900-01-01'), pd.NaT)"
   ]
  },
  {
   "cell_type": "code",
   "execution_count": null,
   "id": "fca6312f",
   "metadata": {},
   "outputs": [],
   "source": []
  },
  {
   "cell_type": "code",
   "execution_count": 22,
   "id": "9f125baf",
   "metadata": {},
   "outputs": [
    {
     "name": "stdout",
     "output_type": "stream",
     "text": [
      "<class 'pandas.core.frame.DataFrame'>\n",
      "Index: 226088 entries, 0 to 270053\n",
      "Data columns (total 44 columns):\n",
      " #   Column                                         Non-Null Count   Dtype         \n",
      "---  ------                                         --------------   -----         \n",
      " 0   Marka pojazdu                                  226086 non-null  object        \n",
      " 1   Model pojazdu                                  226088 non-null  object        \n",
      " 2   Wersja                                         154783 non-null  object        \n",
      " 3   Kolor                                          226088 non-null  object        \n",
      " 4   Liczba drzwi                                   225263 non-null  object        \n",
      " 5   Liczba miejsc                                  211394 non-null  object        \n",
      " 6   Rok produkcji                                  226088 non-null  int64         \n",
      " 7   Generacja                                      163504 non-null  object        \n",
      " 8   Rodzaj paliwa                                  226088 non-null  object        \n",
      " 9   Typ nadwozia                                   226088 non-null  object        \n",
      " 10  Rodzaj koloru                                  134900 non-null  object        \n",
      " 11  Skrzynia biegów                                225998 non-null  object        \n",
      " 12  Napęd                                          212954 non-null  object        \n",
      " 13  Kraj pochodzenia                               155443 non-null  object        \n",
      " 14  Numer rejestracyjny pojazdu                    0 non-null       object        \n",
      " 15  Stan                                           226088 non-null  object        \n",
      " 16  Bezwypadkowy                                   138164 non-null  object        \n",
      " 17  Data pierwszej rejestracji w historii pojazdu  0 non-null       object        \n",
      " 18  Zarejestrowany w Polsce                        142236 non-null  object        \n",
      " 19  Pierwszy właściciel (od nowości)               78587 non-null   object        \n",
      " 20  Serwisowany w ASO                              124454 non-null  object        \n",
      " 21  Ma numer rejestracyjny                         173869 non-null  object        \n",
      " 22  Typ złącza ładowania                           382 non-null     object        \n",
      " 23  Liczba silników                                2046 non-null    object        \n",
      " 24  Odzyskiwanie energii hamowania                 3747 non-null    object        \n",
      " 25  Liczba baterii                                 256 non-null     object        \n",
      " 26  equipment                                      209585 non-null  object        \n",
      " 27  price                                          226088 non-null  float64       \n",
      " 28  currency                                       226088 non-null  object        \n",
      " 29  price_level                                    0 non-null       object        \n",
      " 30  advert_date                                    174360 non-null  datetime64[ns]\n",
      " 31  advert_id                                      226088 non-null  int64         \n",
      " 32  description                                    182806 non-null  object        \n",
      " 33  Pojemność_baterii_kWh                          2108 non-null    object        \n",
      " 34  Autonomia_km                                   2214 non-null    object        \n",
      " 35  engine_displacement_cm3                        0 non-null       object        \n",
      " 36  power_hp                                       225830 non-null  object        \n",
      " 37  co2_emissions_gpkm                             99023 non-null   object        \n",
      " 38  urban_fuel_consumption_l_per_100km             113250 non-null  object        \n",
      " 39  extraurban_fuel_consumption_l_per_100km        97887 non-null   object        \n",
      " 40  mileage_km                                     226088 non-null  int64         \n",
      " 41  average_energy_consumption_kwh_per_100km       1603 non-null    object        \n",
      " 42  battery_health_percent                         140 non-null     object        \n",
      " 43  max_electric_power_hp                          2608 non-null    object        \n",
      "dtypes: datetime64[ns](1), float64(1), int64(3), object(39)\n",
      "memory usage: 77.6+ MB\n"
     ]
    }
   ],
   "source": [
    "df.info()"
   ]
  },
  {
   "cell_type": "code",
   "execution_count": null,
   "id": "fc9f1262",
   "metadata": {},
   "outputs": [],
   "source": [
    "df[df['Liczba miejsc'].notnull()]['Liczba miejsc'].head(10)"
   ]
  },
  {
   "cell_type": "code",
   "execution_count": null,
   "id": "d30e8a91",
   "metadata": {},
   "outputs": [],
   "source": [
    "df[df['Rodzaj paliwa'].notnull()]['Rodzaj paliwa'].unique()"
   ]
  },
  {
   "cell_type": "code",
   "execution_count": null,
   "id": "1434b4b3",
   "metadata": {},
   "outputs": [],
   "source": [
    "print(df.columns)"
   ]
  },
  {
   "cell_type": "code",
   "execution_count": 21,
   "id": "eb2ca6ce",
   "metadata": {},
   "outputs": [],
   "source": [
    "column_mapping = {\n",
    "    'Marka pojazdu': 'make',\n",
    "    'Model pojazdu': 'model',\n",
    "    'Wersja': 'version',\n",
    "    'Kolor': 'color',\n",
    "    'Liczba drzwi': 'number_of_doors',\n",
    "    'Liczba miejsc': 'number_of_seats',\n",
    "    'Rok produkcji': 'production_year',\n",
    "    'Generacja': 'generation',\n",
    "    'Rodzaj paliwa': 'fuel_type',\n",
    "    'Typ nadwozia': 'body_type',\n",
    "    'Rodzaj koloru': 'color_type',\n",
    "    'Skrzynia biegów': 'transmission',\n",
    "    'Napęd': 'drive_type',\n",
    "    'Kraj pochodzenia': 'country_of_origin',\n",
    "    'Numer rejestracyjny pojazdu': 'registration_number',\n",
    "    'Stan': 'condition',\n",
    "    'Bezwypadkowy': 'accident_free',\n",
    "    'Data pierwszej rejestracji w historii pojazdu': 'first_registration_date',\n",
    "    'Zarejestrowany w Polsce': 'registered_in_poland',\n",
    "    'Pierwszy właściciel (od nowości)': 'first_owner',\n",
    "    'Serwisowany w ASO': 'serviced_at_authorized_station',\n",
    "    'Ma numer rejestracyjny': 'has_registration_number',\n",
    "    'Typ złącza ładowania': 'charging_connector_type',\n",
    "    'Liczba silników': 'number_of_engines',\n",
    "    'Odzyskiwanie energii hamowania': 'brake_energy_recovery',\n",
    "    'Liczba baterii': 'number_of_batteries',\n",
    "    'equipment': 'equipment',\n",
    "    'price': 'price',\n",
    "    'currency': 'currency',\n",
    "    'price_level': 'price_level',\n",
    "    'advert_date': 'advert_date',\n",
    "    'advert_id': 'advert_id',\n",
    "    'description': 'description',\n",
    "    'Pojemność_baterii_kWh': 'battery_capacity_kwh',\n",
    "    'Autonomia_km': 'range_km',\n",
    "    'engine_displacement_cm3': 'engine_displacement_cm3',\n",
    "    'power_hp': 'power_hp',\n",
    "    'co2_emissions_gpkm': 'co2_emissions_gpkm',\n",
    "    'urban_fuel_consumption_l_per_100km': 'urban_fuel_consumption_l_per_100km',\n",
    "    'extraurban_fuel_consumption_l_per_100km': 'extraurban_fuel_consumption_l_per_100km',\n",
    "    'mileage_km': 'mileage_km',\n",
    "    'average_energy_consumption_kwh_per_100km': 'average_energy_consumption_kwh_per_100km',\n",
    "    'battery_health_percent': 'battery_health_percent',\n",
    "    'max_electric_power_hp': 'max_electric_power_hp'\n",
    "}\n",
    "\n",
    "df.rename(columns=column_mapping, inplace=True)"
   ]
  },
  {
   "cell_type": "code",
   "execution_count": 24,
   "id": "a973b849",
   "metadata": {},
   "outputs": [
    {
     "name": "stdout",
     "output_type": "stream",
     "text": [
      "<class 'pandas.core.frame.DataFrame'>\n",
      "Index: 226088 entries, 0 to 270053\n",
      "Data columns (total 44 columns):\n",
      " #   Column                                    Non-Null Count   Dtype         \n",
      "---  ------                                    --------------   -----         \n",
      " 0   make                                      226086 non-null  object        \n",
      " 1   model                                     226088 non-null  object        \n",
      " 2   version                                   154783 non-null  object        \n",
      " 3   color                                     226088 non-null  object        \n",
      " 4   number_of_doors                           225263 non-null  object        \n",
      " 5   number_of_seats                           211394 non-null  object        \n",
      " 6   production_year                           226088 non-null  int64         \n",
      " 7   generation                                163504 non-null  object        \n",
      " 8   fuel_type                                 226088 non-null  object        \n",
      " 9   body_type                                 226088 non-null  object        \n",
      " 10  color_type                                134900 non-null  object        \n",
      " 11  transmission                              225998 non-null  object        \n",
      " 12  drive_type                                212954 non-null  object        \n",
      " 13  country_of_origin                         155443 non-null  object        \n",
      " 14  registration_number                       0 non-null       object        \n",
      " 15  condition                                 226088 non-null  object        \n",
      " 16  accident_free                             138164 non-null  object        \n",
      " 17  first_registration_date                   0 non-null       object        \n",
      " 18  registered_in_poland                      142236 non-null  object        \n",
      " 19  first_owner                               78587 non-null   object        \n",
      " 20  serviced_at_authorized_station            124454 non-null  object        \n",
      " 21  has_registration_number                   173869 non-null  object        \n",
      " 22  charging_connector_type                   382 non-null     object        \n",
      " 23  number_of_engines                         2046 non-null    object        \n",
      " 24  brake_energy_recovery                     3747 non-null    object        \n",
      " 25  number_of_batteries                       256 non-null     object        \n",
      " 26  equipment                                 209585 non-null  object        \n",
      " 27  price                                     226088 non-null  float64       \n",
      " 28  currency                                  226088 non-null  object        \n",
      " 29  price_level                               0 non-null       object        \n",
      " 30  advert_date                               174360 non-null  datetime64[ns]\n",
      " 31  advert_id                                 226088 non-null  int64         \n",
      " 32  description                               182806 non-null  object        \n",
      " 33  battery_capacity_kwh                      2108 non-null    object        \n",
      " 34  range_km                                  2214 non-null    object        \n",
      " 35  engine_displacement_cm3                   0 non-null       object        \n",
      " 36  power_hp                                  225830 non-null  object        \n",
      " 37  co2_emissions_gpkm                        99023 non-null   object        \n",
      " 38  urban_fuel_consumption_l_per_100km        113250 non-null  object        \n",
      " 39  extraurban_fuel_consumption_l_per_100km   97887 non-null   object        \n",
      " 40  mileage_km                                226088 non-null  int64         \n",
      " 41  average_energy_consumption_kwh_per_100km  1603 non-null    object        \n",
      " 42  battery_health_percent                    140 non-null     object        \n",
      " 43  max_electric_power_hp                     2608 non-null    object        \n",
      "dtypes: datetime64[ns](1), float64(1), int64(3), object(39)\n",
      "memory usage: 77.6+ MB\n"
     ]
    }
   ],
   "source": [
    "df.info()"
   ]
  },
  {
   "cell_type": "code",
   "execution_count": null,
   "id": "ebdc5851",
   "metadata": {},
   "outputs": [],
   "source": [
    "df[df['battery_capacity_kwh'].notnull()]['battery_capacity_kwh'].unique()"
   ]
  },
  {
   "cell_type": "code",
   "execution_count": 25,
   "id": "9887a7b2",
   "metadata": {},
   "outputs": [],
   "source": [
    "df['serviced_at_authorized_station'] = df['serviced_at_authorized_station'].replace('Bezwypadkowy', np.nan)"
   ]
  },
  {
   "cell_type": "code",
   "execution_count": 22,
   "id": "c7345ad3",
   "metadata": {},
   "outputs": [
    {
     "name": "stdout",
     "output_type": "stream",
     "text": [
      "accident_free ['Tak' <NA>]\n",
      "registered_in_poland ['Tak' <NA>]\n",
      "first_owner ['Tak' <NA>]\n",
      "serviced_at_authorized_station ['Tak' <NA> 'Bezwypadkowy']\n",
      "has_registration_number ['Tak' <NA>]\n",
      "brake_energy_recovery [<NA> 'Nie' 'Tak']\n"
     ]
    }
   ],
   "source": [
    "for col in ['accident_free','registered_in_poland','first_owner',\n",
    "            'serviced_at_authorized_station','has_registration_number',\n",
    "            'brake_energy_recovery']:\n",
    "    print(col, df[col].unique())"
   ]
  },
  {
   "cell_type": "code",
   "execution_count": 26,
   "id": "f15dbac4",
   "metadata": {},
   "outputs": [
    {
     "name": "stdout",
     "output_type": "stream",
     "text": [
      "✅ Wszystkie kolumny zostały przekonwertowane pomyślnie.\n"
     ]
    }
   ],
   "source": [
    "dtype_conversion = {\n",
    "    'number_of_doors': 'Int8',\n",
    "    'number_of_seats': 'Int8',\n",
    "    'production_year': 'Int16',\n",
    "    'number_of_engines': 'Int8',\n",
    "    'number_of_batteries': 'Int8',\n",
    "    'mileage_km': 'Int32',\n",
    "    'advert_id': 'Int64',\n",
    "\n",
    "    'price': 'float32',\n",
    "    'battery_capacity_kwh': 'float32',\n",
    "    'range_km': 'float32',\n",
    "    'power_hp': 'float32',\n",
    "    'co2_emissions_gpkm': 'float32',\n",
    "    'urban_fuel_consumption_l_per_100km': 'float32',\n",
    "    'extraurban_fuel_consumption_l_per_100km': 'float32',\n",
    "    'average_energy_consumption_kwh_per_100km': 'float32',\n",
    "    'battery_health_percent': 'float32',\n",
    "    'max_electric_power_hp': 'float32',\n",
    "    'engine_displacement_cm3': 'float32',\n",
    "\n",
    "    'accident_free': 'boolean',\n",
    "    'registered_in_poland': 'boolean',\n",
    "    'first_owner': 'boolean',\n",
    "    'serviced_at_authorized_station': 'boolean',\n",
    "    'has_registration_number': 'boolean',\n",
    "    'brake_energy_recovery': 'boolean',\n",
    "\n",
    "    'make': 'category',\n",
    "    'model': 'category',\n",
    "    'version': 'category',\n",
    "    'color': 'category',\n",
    "    'generation': 'category',\n",
    "    'fuel_type': 'category',\n",
    "    'body_type': 'category',\n",
    "    'color_type': 'category',\n",
    "    'transmission': 'category',\n",
    "    'drive_type': 'category',\n",
    "    'country_of_origin': 'category',\n",
    "    'condition': 'category',\n",
    "    'charging_connector_type': 'category',\n",
    "    'currency': 'category',\n",
    "    'price_level': 'category',\n",
    "}\n",
    "\n",
    "date_columns = ['first_registration_date', 'advert_date']\n",
    "\n",
    "nullable_float_types = ['float32']\n",
    "nullable_int_types = ['Int8', 'Int16', 'Int32', 'Int64']\n",
    "\n",
    "missing_columns = []\n",
    "\n",
    "for col, target_type in dtype_conversion.items():\n",
    "    if col not in df.columns:\n",
    "        missing_columns.append(col)\n",
    "        continue\n",
    "\n",
    "    if target_type in nullable_float_types:\n",
    "        df[col] = pd.to_numeric(df[col], errors='coerce').astype(target_type)\n",
    "    elif target_type in nullable_int_types:\n",
    "        df[col] = pd.to_numeric(df[col], errors='coerce').astype(target_type)\n",
    "    elif target_type == 'boolean':\n",
    "        # map string 'Tak' / 'Nie' -> True / False if needed\n",
    "        df[col] = df[col].replace('Tak', True).replace('Nie', False)\n",
    "        df[col] = df[col].astype('boolean')\n",
    "    else:\n",
    "        df[col] = df[col].astype(target_type)\n",
    "\n",
    "# Przetwarzanie kolumn datowych\n",
    "for col in date_columns:\n",
    "    if col in df.columns:\n",
    "        df[col] = pd.to_datetime(df[col], errors='coerce')\n",
    "    else:\n",
    "        missing_columns.append(col)\n",
    "\n",
    "# Raport\n",
    "if missing_columns:\n",
    "    print(\"⚠️ Brakujące kolumny w DataFrame (nie zostały przekonwertowane):\")\n",
    "    for col in missing_columns:\n",
    "        print(f\" - {col}\")\n",
    "else:\n",
    "    print(\"✅ Wszystkie kolumny zostały przekonwertowane pomyślnie.\")"
   ]
  },
  {
   "cell_type": "code",
   "execution_count": 27,
   "id": "991435cc",
   "metadata": {},
   "outputs": [
    {
     "data": {
      "text/plain": [
       "0     Audio i multimedia|Interfejs Bluetooth|Radio|Z...\n",
       "1     Audio i multimedia|Android Auto|Interfejs Blue...\n",
       "2     Audio i multimedia|Apple CarPlay|Android Auto|...\n",
       "3     Audio i multimedia|Apple CarPlay|Android Auto|...\n",
       "4     Audio i multimedia|Radio|Gniazdo USB|System na...\n",
       "5     Audio i multimedia|Interfejs Bluetooth|Radio|G...\n",
       "7     Audio i multimedia|Apple CarPlay|Android Auto|...\n",
       "8     Audio i multimedia|Apple CarPlay|Android Auto|...\n",
       "9     Audio i multimedia|Apple CarPlay|Android Auto|...\n",
       "10    Audio i multimedia|Apple CarPlay|Android Auto|...\n",
       "Name: equipment, dtype: object"
      ]
     },
     "execution_count": 27,
     "metadata": {},
     "output_type": "execute_result"
    }
   ],
   "source": [
    "df[df['equipment'].notnull()]['equipment'].head(10)"
   ]
  },
  {
   "cell_type": "code",
   "execution_count": 29,
   "id": "0f80f240",
   "metadata": {},
   "outputs": [
    {
     "data": {
      "text/plain": [
       "array(['Audio i multimedia|Interfejs Bluetooth|Radio|Zestaw głośnomówiący|Komfort i dodatki|Klimatyzacja automatyczna|Podgrzewany fotel kierowcy|Podgrzewany fotel pasażera|Siedzenie z pamięcią ustawienia|Systemy wspomagania kierowcy|Tempomat|Lusterka boczne ustawiane elektrycznie|Podgrzewane lusterka boczne|Wspomaganie ruszania pod górę- Hill Holder|Spryskiwacze reflektorów|System Start/Stop|Elektroniczna kontrola ciśnienia w oponach|Wspomaganie kierownicy|Osiągi i tuning|Felgi stalowe|Bezpieczeństwo|ABS|ESP|Elektroniczny system rozdziału siły hamowania|System powiadamiania o wypadku|Poduszka powietrzna kierowcy|Poduszka powietrzna pasażera|Poduszka kolan pasażera|Kurtyny powietrzne - przód|Boczne poduszki powietrzne - przód|Kurtyny powietrzne - tył|Isofix (punkty mocowania fotelika dziecięcego)',\n",
       "       'Audio i multimedia|Android Auto|Interfejs Bluetooth|Radio|Zestaw głośnomówiący|Gniazdo USB|Ładowanie bezprzewodowe urządzeń|System nawigacji satelitarnej|System nagłośnienia|Ekran dotykowy|Sterowanie funkcjami pojazdu za pomocą głosu|Komfort i dodatki|Hak|Klimatyzacja automatyczna, dwustrefowa|Tapicerka częściowo skórzana|Elektrycznie ustawiany fotel kierowcy|Elektrycznie ustawiany fotel pasażera|Podgrzewany fotel kierowcy|Podgrzewany fotel pasażera|Regul. elektr. podparcia lędźwiowego - kierowca|Podłokietniki - przód|Kierownica skórzana|Kierownica sportowa|Kierownica ze sterowaniem radia|Kolumna kierownicy regulowana elektrycznie|Kierownica wielofunkcyjna|Keyless entry|Keyless Go|Uruchamianie silnika bez użycia kluczyków|Czujnik deszczu|Elektryczne szyby przednie|Elektryczne szyby tylne|Przyciemniane tylne szyby|Wycieraczki|Systemy wspomagania kierowcy|Tempomat adaptacyjny ACC|Lampy przednie w technologii LED|Kontrola odległości z przodu (przy parkowaniu)|Kontrola odległości z tyłu (przy parkowaniu)|Park Assistant - asystent parkowania|Kamera panoramiczna 360|Kamera parkowania tył|Lusterka boczne ustawiane elektrycznie|Podgrzewane lusterka boczne|Lusterka boczne składane elektrycznie|Asystent (czujnik) martwego pola|Aktywny asystent zmiany pasa ruchu|Lane assist - kontrola zmiany pasa ruchu|Kontrola odległości od poprzedzającego pojazdu|Ogranicznik prędkości|Asystent hamowania - Brake Assist|Kontrola trakcji|Wspomaganie ruszania pod górę- Hill Holder|System rozpoznawania znaków drogowych|Asystent świateł drogowych|Oświetlenie adaptacyjne|Dynamiczne światła doświetlające zakręty|Czujnik zmierzchu|Lampy doświetlające zakręt|Światła do jazdy dziennej|Światła do jazdy dziennej diodowe LED|Lampy przeciwmgielne|Oświetlenie drogi do domu|Oświetlenie wnętrza LED|System Start/Stop|Wspomaganie kierownicy|Osiągi i tuning|Filtr cząstek stałych|Felgi aluminiowe 18|Zawieszenie hydropneumatyczne|Bezpieczeństwo|ABS|ESP|Aktywny asystent hamowania awaryjnego|System ostrzegający o możliwej kolizji|System wykrywania zmęczenie kierowcy|Asystent pasa ruchu|System minimalizujący skutki kolizji|Poduszka powietrzna kierowcy|Poduszka powietrzna pasażera|Poduszka kolan kierowcy|Poduszka kolan pasażera|Kurtyny powietrzne - przód|Boczna poduszka powietrzna kierowcy|Boczne poduszki powietrzne - przód|Kurtyny powietrzne - tył|Isofix (punkty mocowania fotelika dziecięcego)',\n",
       "       'Audio i multimedia|Apple CarPlay|Android Auto|Radio|Zestaw głośnomówiący|Ładowanie bezprzewodowe urządzeń|System nagłośnienia|Wyświetlacz typu Head-Up|Sterowanie funkcjami pojazdu za pomocą głosu|Komfort i dodatki|Klimatyzacja automatyczna: 3 strefowa|Szyberdach szklany - przesuwny i uchylny elektrycz|Tapicerka skórzana|Elektrycznie ustawiany fotel kierowcy|Elektrycznie ustawiany fotel pasażera|Podgrzewany fotel kierowcy|Podgrzewany fotel pasażera|Regul. elektr. podparcia lędźwiowego - kierowca|Regul. elektr. podparcia lędźwiowego - pasażer|Fotele przednie z funkcje masażu|Siedzenie z pamięcią ustawienia|Podłokietniki - przód|Podłokietniki - tył|Kierownica skórzana|Kierownica sportowa|Kierownica ze sterowaniem radia|Kierownica wielofunkcyjna|Zmiana biegów w kierownicy|Keyless entry|Keyless Go|Uruchamianie silnika bez użycia kluczyków|Czujnik deszczu|Elektryczne szyby przednie|Elektryczne szyby tylne|Wycieraczki|Dach otwierany elektrycznie|Dach otwierany elektrycznie pilotem|Systemy wspomagania kierowcy|Tempomat adaptacyjny ACC|Lampy przednie w technologii LED|Kontrola odległości z przodu (przy parkowaniu)|Kontrola odległości z tyłu (przy parkowaniu)|Park Assistant - asystent parkowania|Niezależny system parkowania|Kamera panoramiczna 360|Kamera parkowania tył|Asystent (czujnik) martwego pola|Aktywny asystent zmiany pasa ruchu|Lane assist - kontrola zmiany pasa ruchu|Asystent hamowania - Brake Assist|Kontrola trakcji|System rozpoznawania znaków drogowych|Asystent świateł drogowych|Spryskiwacze reflektorów|Światła do jazdy dziennej|Światła do jazdy dziennej diodowe LED|Lampy przeciwmgielne|Lampy przeciwmgielne w technologii LED|Lampy tylne w technologii LED|Oświetlenie drogi do domu|Oświetlenie wnętrza LED|System Start/Stop|Elektroniczna kontrola ciśnienia w oponach|Elektryczny hamulec postojowy|Wspomaganie kierownicy|Osiągi i tuning|Felgi aluminiowe 18|Zawieszenie komfortowe|Zawieszenie sportowe|Hamulce z kompozytów ceramicznych|Bezpieczeństwo|ABS|ESP|Aktywny asystent hamowania awaryjnego|System ostrzegający o możliwej kolizji|Asystent pasa ruchu|System powiadamiania o wypadku|Poduszka powietrzna kierowcy|Poduszka powietrzna pasażera|Poduszka kolan pasażera|Kurtyny powietrzne - przód|Boczne poduszki powietrzne - przód|Kurtyny powietrzne - tył',\n",
       "       ...,\n",
       "       'Interfejs Bluetooth|Radio|Zestaw głośnomówiący|Gniazdo USB|System nawigacji satelitarnej|System nagłośnienia|Klimatyzacja automatyczna: 3 strefowa|Tapicerka skórzana|Klimatyzacja dla pasażerów z tyłu|Elektrycznie ustawiany fotel kierowcy|Elektrycznie ustawiany fotel pasażera|Podgrzewany fotel kierowcy|Podgrzewany fotel pasażera|Regul. elektr. podparcia lędźwiowego - kierowca|Regul. elektr. podparcia lędźwiowego - pasażer|Fotele przednie wentylowane|Fotele przednie z funkcje masażu|Siedzenie z pamięcią ustawienia|Sportowe fotele - przód|Ogrzewane siedzenia tylne|Podłokietniki - przód|Podłokietniki - tył|Kierownica skórzana|Kierownica sportowa|Kierownica ze sterowaniem radia|Kolumna kierownicy regulowana elektrycznie|Kierownica wielofunkcyjna|Zmiana biegów w kierownicy|Dźwignia zmiany biegów wykończona skórą|Keyless entry|Keyless Go|Uruchamianie silnika bez użycia kluczyków|Czujnik deszczu|Elektryczne szyby przednie|Elektryczne szyby tylne|Przyciemniane tylne szyby|Wycieraczki|Dach otwierany elektrycznie|Tempomat|Lampy bi-ksenonowe|Kamera parkowania tył|Lusterka boczne ustawiane elektrycznie|Podgrzewane lusterka boczne|Lusterka boczne składane elektrycznie|Asystent (czujnik) martwego pola|Aktywny asystent zmiany pasa ruchu|Lane assist - kontrola zmiany pasa ruchu|Kontrola odległości od poprzedzającego pojazdu|Ogranicznik prędkości|Asystent hamowania - Brake Assist|Kontrola trakcji|Wspomaganie ruszania pod górę- Hill Holder|Asystent świateł drogowych|Oświetlenie adaptacyjne|Dynamiczne światła doświetlające zakręty|Czujnik zmierzchu|Spryskiwacze reflektorów|Lampy doświetlające zakręt|Światła do jazdy dziennej|Światła do jazdy dziennej diodowe LED|Lampy przeciwmgielne|Lampy przeciwmgielne w technologii LED|Lampy tylne w technologii LED|Oświetlenie drogi do domu|Oświetlenie wnętrza LED|System Start/Stop|Elektroniczna kontrola ciśnienia w oponach|Wspomaganie kierownicy|Felgi aluminiowe 19|Opony zimowe|Elektroniczna regul. charakterystyki zawieszenia|Zawieszenie sportowe|Zawieszenie regulowane|ABS|ESP|System wspomagania hamowania|Poduszka powietrzna kierowcy|Poduszka powietrzna pasażera|Poduszka kolan kierowcy|Poduszka kolan pasażera|Kurtyny powietrzne - przód|Boczna poduszka powietrzna kierowcy|Boczne poduszki powietrzne - przód|Kurtyny powietrzne - tył|Boczne poduszki powietrzne - tył|Kurtyna powietrzna z tyłu, poprzeczna|Isofix (punkty mocowania fotelika dziecięcego)',\n",
       "       'Radio|Klimatyzacja automatyczna|Tapicerka częściowo skórzana|Elektrycznie ustawiany fotel kierowcy|Elektrycznie ustawiany fotel pasażera|Podgrzewany fotel kierowcy|Podgrzewany fotel pasażera|Podłokietniki - przód|Podłokietniki - tył|Kierownica skórzana|Kierownica sportowa|Kierownica wielofunkcyjna|Zmiana biegów w kierownicy|Czujnik deszczu|Elektryczne szyby przednie|Elektryczne szyby tylne|Tempomat|Lampy bi-ksenonowe|Kontrola odległości z tyłu (przy parkowaniu)|Lusterka boczne ustawiane elektrycznie|Podgrzewane lusterka boczne|Lusterka boczne składane elektrycznie|Spryskiwacze reflektorów|Światła do jazdy dziennej diodowe LED|Lampy tylne w technologii LED|System Start/Stop|Elektroniczna kontrola ciśnienia w oponach|Wspomaganie kierownicy|Felgi aluminiowe 18|Opony wielosezonowe|Zawieszenie hydropneumatyczne|ABS|ESP|Elektroniczny system rozdziału siły hamowania|Poduszka powietrzna kierowcy|Poduszka powietrzna pasażera|Poduszka kolan kierowcy|Poduszka kolan pasażera|Kurtyny powietrzne - przód|Boczna poduszka powietrzna kierowcy|Boczne poduszki powietrzne - przód|Isofix (punkty mocowania fotelika dziecięcego)|System zabezpieczający podczas dachowania',\n",
       "       'Android Auto|Interfejs Bluetooth|Radio|Zestaw głośnomówiący|Gniazdo USB|System nawigacji satelitarnej|Dostęp do internetu|Klimatyzacja manualna|Podłokietniki - przód|Kierownica ze sterowaniem radia|Kierownica wielofunkcyjna|Elektryczne szyby przednie|Elektryczne szyby tylne|Przyciemniane tylne szyby|Tempomat|Kamera parkowania tył|Lusterka boczne ustawiane elektrycznie|Podgrzewane lusterka boczne|Kontrola trakcji|Światła do jazdy dziennej|Światła do jazdy dziennej diodowe LED|Lampy przeciwmgielne|Wspomaganie kierownicy|Felgi aluminiowe 16|ABS|ESP|Poduszka powietrzna kierowcy|Poduszka powietrzna pasażera|Kurtyny powietrzne - przód|Boczna poduszka powietrzna kierowcy|Boczne poduszki powietrzne - przód|Kurtyny powietrzne - tył|Boczne poduszki powietrzne - tył|Isofix (punkty mocowania fotelika dziecięcego)'],\n",
       "      shape=(170426,), dtype=object)"
      ]
     },
     "execution_count": 29,
     "metadata": {},
     "output_type": "execute_result"
    }
   ],
   "source": [
    "df[df['equipment'].notnull()]['equipment'].unique()"
   ]
  },
  {
   "cell_type": "code",
   "execution_count": null,
   "id": "e83d8e05",
   "metadata": {},
   "outputs": [],
   "source": [
    "# Zakładamy, że df już istnieje i zawiera kolumnę 'equipment'\n",
    "\n",
    "# 1. Dodaj tymczasowy ID (local_id)\n",
    "df = df.reset_index(drop=True).copy()\n",
    "df['local_id'] = df.index + 1  # numerujemy od 1\n",
    "\n",
    "# 2. Rozbij kolumnę 'equipment' na listy i standaryzuj (lowercase + bez duplikatów)\n",
    "df['equipment_list'] = df['equipment'].fillna('').apply(\n",
    "    lambda x: list(set(map(str.lower, [item.strip() for item in x.split('|') if item.strip()])))\n",
    ")\n",
    "\n",
    "# 3. Stwórz unikalne opcje wyposażenia\n",
    "all_equipment = set(chain.from_iterable(df['equipment_list']))\n",
    "equipment_df = pd.DataFrame(sorted(all_equipment), columns=['name'])\n",
    "equipment_df.reset_index(inplace=True)\n",
    "equipment_df.rename(columns={'index': 'id'}, inplace=True)\n",
    "equipment_df = equipment_df.sort_values(by='name').reset_index(drop=True)\n",
    "\n",
    "# 4. Mapuj wyposażenie do ID i buduj tabelę relacyjną listing_equipment\n",
    "equipment_map = dict(zip(equipment_df['name'], equipment_df['id']))\n",
    "rows = []\n",
    "\n",
    "for _, row in df.iterrows():\n",
    "    for eq in row['equipment_list']:\n",
    "        eq_id = equipment_map.get(eq)\n",
    "        if eq_id is not None:\n",
    "            rows.append({'listing_id': row['local_id'], 'equipment_id': eq_id})\n",
    "\n",
    "listing_equipment_df = pd.DataFrame(rows)\n",
    "\n",
    "# 5. Zapisz pliki CSV do folderu\n",
    "output_dir = r'C:\\Users\\Lukasz Pindus\\VS Code Python\\car_price_analysis\\data'\n",
    "\n",
    "listings_df = df.drop(columns=['equipment', 'equipment_list'])\n",
    "listings_df.to_csv(os.path.join(output_dir, 'listings.csv'), index=False)\n",
    "equipment_df.to_csv(os.path.join(output_dir, 'equipment_options.csv'), index=False)\n",
    "listing_equipment_df.to_csv(os.path.join(output_dir, 'listing_equipment.csv'), index=False)"
   ]
  },
  {
   "cell_type": "code",
   "execution_count": null,
   "id": "f6bf92ca",
   "metadata": {},
   "outputs": [],
   "source": []
  },
  {
   "cell_type": "code",
   "execution_count": null,
   "id": "ec81b667",
   "metadata": {},
   "outputs": [],
   "source": []
  },
  {
   "cell_type": "code",
   "execution_count": null,
   "id": "520342a0",
   "metadata": {},
   "outputs": [],
   "source": []
  },
  {
   "cell_type": "code",
   "execution_count": null,
   "id": "eab5f018",
   "metadata": {},
   "outputs": [],
   "source": []
  },
  {
   "cell_type": "code",
   "execution_count": null,
   "id": "320bb63f",
   "metadata": {},
   "outputs": [],
   "source": []
  },
  {
   "cell_type": "code",
   "execution_count": null,
   "id": "de64a2e5",
   "metadata": {},
   "outputs": [],
   "source": []
  },
  {
   "cell_type": "code",
   "execution_count": null,
   "id": "d7fbc4a7",
   "metadata": {},
   "outputs": [],
   "source": [
    "#df['advert_id'] = df['advert_id'].astype('Int64')\n",
    "\n",
    "df.groupby(['Marka pojazdu', 'Model pojazdu', 'price', 'Rok produkcji', 'Przebieg']).size().reset_index(name='counts')"
   ]
  },
  {
   "cell_type": "code",
   "execution_count": null,
   "id": "152c57dc",
   "metadata": {},
   "outputs": [],
   "source": [
    "df_test = df.drop_duplicates()\n",
    "print(\"Rozmiar po usunięciu pełnych duplikatów:\", df_test.shape)"
   ]
  },
  {
   "cell_type": "code",
   "execution_count": null,
   "id": "588c3bdf",
   "metadata": {},
   "outputs": [],
   "source": [
    "df_clean = df.drop_duplicates(subset=['Marka pojazdu', 'Model pojazdu', 'price', 'Rok produkcji', 'Przebieg'])\n",
    "\n",
    "# Teraz grupuj na df_clean, a nie df\n",
    "df_clean.groupby(['Marka pojazdu', 'Model pojazdu', 'price', 'Rok produkcji', 'Przebieg']).size().reset_index(name='counts')\n"
   ]
  }
 ],
 "metadata": {
  "kernelspec": {
   "display_name": "venv",
   "language": "python",
   "name": "python3"
  },
  "language_info": {
   "codemirror_mode": {
    "name": "ipython",
    "version": 3
   },
   "file_extension": ".py",
   "mimetype": "text/x-python",
   "name": "python",
   "nbconvert_exporter": "python",
   "pygments_lexer": "ipython3",
   "version": "3.11.9"
  }
 },
 "nbformat": 4,
 "nbformat_minor": 5
}
